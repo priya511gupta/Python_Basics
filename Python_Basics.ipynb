{
  "nbformat": 4,
  "nbformat_minor": 0,
  "metadata": {
    "colab": {
      "provenance": [],
      "toc_visible": true,
      "gpuType": "T4"
    },
    "kernelspec": {
      "name": "python3",
      "display_name": "Python 3"
    },
    "language_info": {
      "name": "python"
    },
    "accelerator": "GPU"
  },
  "cells": [
    {
      "cell_type": "code",
      "execution_count": null,
      "metadata": {
        "id": "3R1flMyGx-4P"
      },
      "outputs": [],
      "source": []
    },
    {
      "cell_type": "markdown",
      "source": [
        "# Python Basics"
      ],
      "metadata": {
        "id": "f7DP2gKCStw5"
      }
    },
    {
      "cell_type": "markdown",
      "source": [],
      "metadata": {
        "id": "6Ddqg9wgR9oS"
      }
    },
    {
      "cell_type": "markdown",
      "source": [
        "Question 1.  What is Python, and why is it popular?\n",
        "\n",
        "Answer- Python is a high-level, interpreted programming language known for its      simplicity, readability, and versatility. It was created by Guido van Rossum and released in 1991. Python supports multiple programming paradigms, including procedural, object-oriented, and functional programming.\n",
        "\n",
        "Why is Python Popular?\n",
        "1. Simple and Readable Syntax.\n",
        "2. Extensive Libraries and Frameworks\n",
        "3. Cross-Platform Compatibility\n",
        "4. Large and Active Community\n",
        "5. Versatility\n",
        "6. Integration Capabilities\n",
        "7. Strong Support for Education and Research\n",
        "\n",
        "Question 2.  What is an interpreter in Python?\n",
        "\n",
        "Answer- An interpreter in Python is a program that reads and executes Python code line by line. Unlike a compiler, which translates the entire code into machine language at once, an interpreter translates each line of code during execution.\n",
        "\n",
        "Question 3.  What are pre-defined keywords in Python?\n",
        "\n",
        "Answer - Pre-defined keywords in Python are reserved words that have special meaning to the Python interpreter. These words are part of the Python syntax and structure, and you cannot use them as variable names, function names, or identifiers.\n",
        "\n",
        "Question 4. Can keywords be used as variable names?\n",
        "\n",
        "Answer- No, keywords cannot be used as variable names in Python.\n",
        "\n",
        "Why Not?\n",
        "\n",
        "Keywords are reserved words in Python that have special meaning to the interpreter.\n",
        "\n",
        "Using a keyword as a variable name will cause a syntax error, because the interpreter gets confused between your intended variable and the keyword's function.\n",
        "\n",
        "Question 5.  What is mutability in Python?\n",
        "\n",
        "Answer- Mutability refers to whether or not an object in Python can be changed (modified) after it is created.\n",
        "\n",
        "Question 6.  Why are lists mutable, but tuples are immutable?\n",
        "\n",
        "Answer- 1. Lists are Mutable (Can be changed)\n",
        "\n",
        "Lists are meant to store collections of items that may change over time.\n",
        "\n",
        "You can add, remove, or modify elements in a list without creating a new object.\n",
        "\n",
        "   2. Tuples are Immutable (Cannot be changed)\n",
        "\n",
        "Tuples are intended to store fixed collections of values.\n",
        "\n",
        "Once a tuple is created, its contents cannot be modified — no adding, removing, or changing items.\n",
        "\n",
        "Question 7. What is the difference between “==” and “is” operators in Python?\n",
        "\n",
        "Answer- == → Equality Operator\n",
        "Checks if two objects have the same value.\n",
        "\n",
        "It calls the __eq__() method behind the scenes.\n",
        "\n",
        "is → Identity Operator\n",
        "Checks if two variables point to the same object in memory.\n",
        "\n",
        "Returns True only if they are the same exact object (not just equal values).\n",
        "\n",
        "Question 8.  What are logical operators in Python?\n",
        "\n",
        "Answer- Logical operators in Python are used to combine conditional statements (booleans). They evaluate expressions and return either True or False based on the logic applied.\n",
        "\n",
        "\n",
        "| Operator | Meaning                          | Example         | Result  |\n",
        "| -------- | -------------------------------- | --------------- | ------- |\n",
        "| `and`    | True if **both** are True        | `True and True` | `True`  |\n",
        "| `or`     | True if **at least one** is True | `True or False` | `True`  |\n",
        "| `not`    | Reverses the result              | `not True`      | `False` |\n",
        "\n",
        "Question 9. What is type casting in Python?\n",
        "\n",
        "Answer- Type casting in Python means converting one data type into another, either manually (explicit) or automatically (implicit).\n",
        "\n",
        "Question 10. - What is the difference between implicit and explicit type casting?\n",
        "\n",
        "Answer- Type casting is the process of converting a variable from one data type to another. In Python, it can be done in two ways: Implicit and Explicit.\n",
        "\n",
        "1. Implicit Type Casting (Automatic)\n",
        "Done automatically by Python\n",
        "\n",
        "Happens during operations between different but compatible data types\n",
        "\n",
        "No data loss or error occurs\n",
        "\n",
        "2. Explicit Type Casting (Manual)\n",
        "Done manually by the programmer\n",
        "\n",
        "Uses Python’s built-in casting functions: int(), float(), str(), bool(), etc.\n",
        "\n",
        "Can lead to data loss or errors if used incorrectly\n",
        "\n",
        "Question 11. What is the purpose of conditional statements in Python?\n",
        "\n",
        "Answer- Conditional statements in Python are used to make decisions in your code — they allow your program to choose different actions based on whether a condition is True or False.\n",
        "\n",
        "Purpose:\n",
        "To control the flow of a program\n",
        "\n",
        "To perform different actions based on different conditions\n",
        "\n",
        "To implement decision-making logic\n",
        "\n",
        "Question 12. How does the elif statement work?\n",
        "\n",
        "Answer- The elif (short for \"else if\") statement in Python is used to check multiple conditions after an initial if statement.\n",
        "\n",
        "It helps create a chain of conditional checks, where only the first True condition is executed — and the rest are ignored.\n",
        "\n",
        "Question 13. What is the difference between for and while loops?\n",
        "\n",
        "Answer-\n",
        "Both for and while loops are used to repeat a block of code, but they are used in different situations depending on the condition or sequence.\n",
        " 1. for Loop → Iterates Over a Sequence\n",
        "Used when you know how many times you want to loop.\n",
        "\n",
        "Commonly used with lists, strings, ranges, or any iterable.\n",
        " 2. while Loop → Repeats Based on a Condition\n",
        "Used when the number of iterations is not known in advance.\n",
        "\n",
        "Continues as long as the condition is True.\n",
        "\n",
        "Question 14.  Describe a scenario where a while loop is more suitable than a for loop.\n",
        "\n",
        "Answer- A **while** loop is better when you don’t know how many times the loop needs to run — the number of iterations depends on a condition that changes during runtime.\n",
        "\n",
        "Real-World Scenario: User Login Attempt\n",
        "Imagine you're building a login system that allows the user to keep trying until they enter the correct password.\n",
        "\n",
        "You don’t know how many attempts the user will take, so a while loop is ideal.\n",
        "\n",
        "\n",
        "\n",
        "\n"
      ],
      "metadata": {
        "id": "RduhFWEsyO2H"
      }
    },
    {
      "cell_type": "code",
      "source": [
        "# 1)Write a Python program to print \"Hello, World!\"\n",
        "\n",
        "print(\"Hello, World!\")\n",
        "\n"
      ],
      "metadata": {
        "colab": {
          "base_uri": "https://localhost:8080/"
        },
        "id": "x1UhmKe1APaP",
        "outputId": "6653703f-cd99-484a-e6f0-cd98f0927b41"
      },
      "execution_count": 5,
      "outputs": [
        {
          "output_type": "stream",
          "name": "stdout",
          "text": [
            "Hello, World!\n"
          ]
        }
      ]
    },
    {
      "cell_type": "code",
      "source": [
        "# 2)Write a Python program that displays your name and age.\n",
        "\n",
        "name = \"Priya\"\n",
        "age = 22\n",
        "\n",
        "print(\"My name is\", name)\n",
        "print(\"I am\", age, \"years old.\")\n"
      ],
      "metadata": {
        "colab": {
          "base_uri": "https://localhost:8080/"
        },
        "id": "XHByJwIQAxiM",
        "outputId": "5a1a58c1-4378-46ea-e0a9-3c2d7b1e9ccc"
      },
      "execution_count": 1,
      "outputs": [
        {
          "output_type": "stream",
          "name": "stdout",
          "text": [
            "My name is Priya\n",
            "I am 22 years old.\n"
          ]
        }
      ]
    },
    {
      "cell_type": "code",
      "source": [
        "# 3)Write code to print all the pre-defined keywords in Python using the keyword library.\n",
        "\n",
        "import keyword\n",
        "\n",
        "\n",
        "keywords = keyword.kwlist\n",
        "\n",
        "print(f\"Total Python keywords: {len(keywords)}\")\n",
        "\n",
        "print(\"List of Python keywords:\")\n",
        "for kw in keywords:\n",
        "    print(kw)\n",
        "\n",
        "\n",
        "\n",
        "\n"
      ],
      "metadata": {
        "colab": {
          "base_uri": "https://localhost:8080/"
        },
        "id": "SBW6v4WWBPyF",
        "outputId": "1e6296f0-60d3-40f8-bf0b-983abf2c330c"
      },
      "execution_count": 3,
      "outputs": [
        {
          "output_type": "stream",
          "name": "stdout",
          "text": [
            "Total Python keywords: 35\n",
            "List of Python keywords:\n",
            "False\n",
            "None\n",
            "True\n",
            "and\n",
            "as\n",
            "assert\n",
            "async\n",
            "await\n",
            "break\n",
            "class\n",
            "continue\n",
            "def\n",
            "del\n",
            "elif\n",
            "else\n",
            "except\n",
            "finally\n",
            "for\n",
            "from\n",
            "global\n",
            "if\n",
            "import\n",
            "in\n",
            "is\n",
            "lambda\n",
            "nonlocal\n",
            "not\n",
            "or\n",
            "pass\n",
            "raise\n",
            "return\n",
            "try\n",
            "while\n",
            "with\n",
            "yield\n"
          ]
        }
      ]
    },
    {
      "cell_type": "code",
      "source": [
        "#  4)Write a program that checks if a given word is a Python keyword.\n",
        "\n",
        "import keyword\n",
        "\n",
        "\n",
        "word = input(\"Enter a word to check if it's a Python keyword: \")\n",
        "\n",
        "\n",
        "if keyword.iskeyword(word):\n",
        "    print(f\"✅ '{word}' is a Python keyword.\")\n",
        "else:\n",
        "    print(f\"❌ '{word}' is NOT a Python keyword.\")\n"
      ],
      "metadata": {
        "id": "vT6u4etSCNB-"
      },
      "execution_count": null,
      "outputs": []
    },
    {
      "cell_type": "code",
      "source": [
        "# 5)Create a list and tuple in Python, and demonstrate how attempting to change an element works differently for each.\n",
        "\n",
        "\n",
        "my_list = [10, 20, 30]\n",
        "my_tuple = (10, 20, 30)\n",
        "\n",
        "\n",
        "print(\"Original list:\", my_list)\n",
        "my_list[1] = 99\n",
        "print(\"Modified list:\", my_list)\n",
        "\n",
        "\n",
        "print(\"Original tuple:\", my_tuple)\n",
        "try:\n",
        "    my_tuple[1] = 99  # ❌\n",
        "except TypeError as e:\n",
        "    print(\"Error while modifying tuple:\", e)\n"
      ],
      "metadata": {
        "colab": {
          "base_uri": "https://localhost:8080/"
        },
        "id": "hWLqABwsCesc",
        "outputId": "9234c91d-c7b7-4efb-aa63-05978b5e125d"
      },
      "execution_count": 1,
      "outputs": [
        {
          "output_type": "stream",
          "name": "stdout",
          "text": [
            "Original list: [10, 20, 30]\n",
            "Modified list: [10, 99, 30]\n",
            "Original tuple: (10, 20, 30)\n",
            "Error while modifying tuple: 'tuple' object does not support item assignment\n"
          ]
        }
      ]
    },
    {
      "cell_type": "code",
      "source": [
        "# 6) Write a function to demonstrate the behavior of mutable and immutable arguments.\n",
        "\n",
        "# Function to modify a list (mutable)\n",
        "def modify_list(lst):\n",
        "    lst.append(100)\n",
        "    print(\"Inside function (list):\", lst)\n",
        "\n",
        "# Function to modify an integer (immutable)\n",
        "def modify_integer(x):\n",
        "    x += 10\n",
        "    print(\"Inside function (int):\", x)\n",
        "\n",
        "\n",
        "my_list = [1, 2, 3]\n",
        "my_int = 5\n",
        "\n",
        "print(\"Original list:\", my_list)\n",
        "modify_list(my_list)\n",
        "print(\"After function call (list):\", my_list)\n",
        "\n",
        "print(\"\\nOriginal integer:\", my_int)\n",
        "modify_integer(my_int)\n",
        "print(\"After function call (int):\", my_int)\n"
      ],
      "metadata": {
        "colab": {
          "base_uri": "https://localhost:8080/"
        },
        "id": "Q2dJznEcD1lm",
        "outputId": "0c0c5ba1-c6a4-401a-8485-d56a94343e03"
      },
      "execution_count": 2,
      "outputs": [
        {
          "output_type": "stream",
          "name": "stdout",
          "text": [
            "Original list: [1, 2, 3]\n",
            "Inside function (list): [1, 2, 3, 100]\n",
            "After function call (list): [1, 2, 3, 100]\n",
            "\n",
            "Original integer: 5\n",
            "Inside function (int): 15\n",
            "After function call (int): 5\n"
          ]
        }
      ]
    },
    {
      "cell_type": "code",
      "source": [
        "# 7)  Write a program that performs basic arithmetic operations on two user-input numbers.\n",
        "\n",
        "# Take input from the user\n",
        "num1 = float(input(\"Enter the first number: \"))\n",
        "num2 = float(input(\"Enter the second number: \"))\n",
        "\n",
        "# Perform basic arithmetic operations\n",
        "addition = num1 + num2\n",
        "subtraction = num1 - num2\n",
        "multiplication = num1 * num2\n",
        "\n",
        "# Handle division safely\n",
        "if num2 != 0:\n",
        "    division = num1 / num2\n",
        "else:\n",
        "    division = \"Undefined (division by zero)\"\n",
        "\n",
        "# Display results\n",
        "print(f\"\\nResults:\")\n",
        "print(f\"Addition: {num1} + {num2} = {addition}\")\n",
        "print(f\"Subtraction: {num1} - {num2} = {subtraction}\")\n",
        "print(f\"Multiplication: {num1} * {num2} = {multiplication}\")\n",
        "print(f\"Division: {num1} / {num2} = {division}\")\n"
      ],
      "metadata": {
        "id": "aUa49E_0Eh0t"
      },
      "execution_count": null,
      "outputs": []
    },
    {
      "cell_type": "code",
      "source": [
        "# 8)  Write a program to demonstrate the use of logical operators.\n",
        "\n",
        "# Take input from the user\n",
        "age = int(input(\"Enter your age: \"))\n",
        "has_license = input(\"Do you have a driving license? (yes/no): \").lower()\n",
        "\n",
        "# Using logical operators\n",
        "\n",
        "# Using 'and'\n",
        "if age >= 18 and has_license == \"yes\":\n",
        "    print(\"✅ You are allowed to drive.\")\n",
        "\n",
        "# Using 'or'\n",
        "elif age >= 18 or has_license == \"yes\":\n",
        "    print(\"⚠️ You might be eligible, but you must meet both conditions.\")\n",
        "\n",
        "# Using 'not'\n",
        "else:\n",
        "    if not (age >= 18):\n",
        "        print(\"❌ You are too young to drive.\")\n",
        "    if not (has_license == \"yes\"):\n",
        "        print(\"❌ You need a valid driving license.\")\n"
      ],
      "metadata": {
        "id": "GuTOUAt-FIx_"
      },
      "execution_count": null,
      "outputs": []
    },
    {
      "cell_type": "code",
      "source": [
        "# 9) Write a Python program to convert user input from string to integer, float, and boolean types.\n",
        "\n",
        "\n",
        "user_input = input(\"Enter a value: \")\n",
        "\n",
        "\n",
        "try:\n",
        "    int_value = int(user_input)\n",
        "    print(f\"Integer conversion: {int_value}\")\n",
        "except ValueError:\n",
        "    print(\"❌ Cannot convert to integer.\")\n",
        "\n",
        "\n",
        "try:\n",
        "    float_value = float(user_input)\n",
        "    print(f\"Float conversion: {float_value}\")\n",
        "except ValueError:\n",
        "    print(\"❌ Cannot convert to float.\")\n",
        "\n",
        "\n",
        "bool_value = bool(user_input)\n",
        "print(f\"Boolean conversion: {bool_value}\")\n"
      ],
      "metadata": {
        "id": "XmhCC23IFcdA"
      },
      "execution_count": null,
      "outputs": []
    },
    {
      "cell_type": "code",
      "source": [
        "# 10)  Write code to demonstrate type casting with list elements.\n",
        "\n",
        "\n",
        "str_list = [\"10\", \"20\", \"30\", \"40\"]\n",
        "\n",
        "\n",
        "int_list = [int(item) for item in str_list]\n",
        "print(\"Integer list:\", int_list)\n",
        "\n",
        "\n",
        "float_list = [float(item) for item in str_list]\n",
        "print(\"Float list:\", float_list)\n",
        "\n",
        "\n",
        "str_from_int_list = [str(item) for item in int_list]\n",
        "print(\"String list from integers:\", str_from_int_list)\n"
      ],
      "metadata": {
        "colab": {
          "base_uri": "https://localhost:8080/"
        },
        "id": "S9Gb8ihpFrVN",
        "outputId": "d94c3648-703e-48d2-9edc-1d637ecc6be4"
      },
      "execution_count": 1,
      "outputs": [
        {
          "output_type": "stream",
          "name": "stdout",
          "text": [
            "Integer list: [10, 20, 30, 40]\n",
            "Float list: [10.0, 20.0, 30.0, 40.0]\n",
            "String list from integers: ['10', '20', '30', '40']\n"
          ]
        }
      ]
    },
    {
      "cell_type": "code",
      "source": [
        "# 11) Write a program that checks if a number is positive, negative, or zero.\n",
        "\n",
        "\n",
        "num = float(input(\"Enter a number: \"))\n",
        "\n",
        "\n",
        "if num > 0:\n",
        "    print(\"The number is positive.\")\n",
        "elif num < 0:\n",
        "    print(\"The number is negative.\")\n",
        "else:\n",
        "    print(\"The number is zero.\")\n"
      ],
      "metadata": {
        "id": "Fck7V1jTF7Hx"
      },
      "execution_count": null,
      "outputs": []
    },
    {
      "cell_type": "code",
      "source": [
        "# 12) Write a for loop to print numbers from 1 to 10.\n",
        "\n",
        "for i in range(1, 11):\n",
        "    print(i)\n"
      ],
      "metadata": {
        "colab": {
          "base_uri": "https://localhost:8080/"
        },
        "id": "LqkUbrM-GU6e",
        "outputId": "3e3209ba-f197-4694-9467-986077a3ac91"
      },
      "execution_count": 1,
      "outputs": [
        {
          "output_type": "stream",
          "name": "stdout",
          "text": [
            "1\n",
            "2\n",
            "3\n",
            "4\n",
            "5\n",
            "6\n",
            "7\n",
            "8\n",
            "9\n",
            "10\n"
          ]
        }
      ]
    },
    {
      "cell_type": "code",
      "source": [
        "# 13) Write a Python program to find the sum of all even numbers between 1 and 50.\n",
        "\n",
        "\n",
        "even_sum = 0\n",
        "\n",
        "\n",
        "for i in range(1, 51):\n",
        "    if i % 2 == 0:\n",
        "        even_sum += i\n",
        "\n",
        "\n",
        "print(\"Sum of even numbers from 1 to 50 is:\", even_sum)\n"
      ],
      "metadata": {
        "colab": {
          "base_uri": "https://localhost:8080/"
        },
        "id": "3mU2YpoJGeho",
        "outputId": "7f708f6c-d113-48fd-c77c-716adfa174ff"
      },
      "execution_count": 2,
      "outputs": [
        {
          "output_type": "stream",
          "name": "stdout",
          "text": [
            "Sum of even numbers from 1 to 50 is: 650\n"
          ]
        }
      ]
    },
    {
      "cell_type": "code",
      "source": [
        "# 14) Write a program to reverse a string using a while loop.\n",
        "\n",
        "original_str = input(\"Enter a string: \")\n",
        "\n",
        "reversed_str = \"\"\n",
        "index = len(original_str) - 1\n",
        "\n",
        "\n",
        "while index >= 0:\n",
        "    reversed_str += original_str[index]\n",
        "    index -= 1\n",
        "\n",
        "print(\"Reversed string:\", reversed_str)\n"
      ],
      "metadata": {
        "id": "FUFgwk7cGmXW"
      },
      "execution_count": null,
      "outputs": []
    },
    {
      "cell_type": "code",
      "source": [
        "# 15)  Write a Python program to calculate the factorial of a number provided by the user using a while loop.\n",
        "\n",
        "\n",
        "num = int(input(\"Enter a non-negative integer: \"))\n",
        "\n",
        "\n",
        "if num < 0:\n",
        "    print(\"❌ Factorial is not defined for negative numbers.\")\n",
        "else:\n",
        "    factorial = 1\n",
        "    i = 1\n",
        "    while i <= num:\n",
        "        factorial *= i\n",
        "        i += 1\n",
        "\n",
        "    print(f\"Factorial of {num} is {factorial}\")\n"
      ],
      "metadata": {
        "id": "UEMJ9MEyG7_B"
      },
      "execution_count": null,
      "outputs": []
    }
  ]
}